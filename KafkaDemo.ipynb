{
 "cells": [
  {
   "cell_type": "markdown",
   "id": "59b2d799",
   "metadata": {},
   "source": [
    "# Kafka Demo\n",
    "\n",
    "### Connect to Kafka Broker Server \n",
    "```\n",
    "ssh -L <local_port>:localhost:<remote_port> <user>@<remote_server> -NTf\n",
    "```\n",
    "Find how to connect to Kafka server on Canvas lab 2 assignment page.\n",
    "\n",
    "### To kill connection\n",
    "```\n",
    "lsof -ti:<local_port> | xargs kill -9\n",
    "```\n",
    "\n",
    "### Setup\n",
    "```\n",
    "python -m pip install kafka-python\n",
    "```"
   ]
  },
  {
   "cell_type": "code",
   "execution_count": 26,
   "id": "560fd2bb",
   "metadata": {
    "ExecuteTime": {
     "end_time": "2024-09-03T20:53:48.295316Z",
     "start_time": "2024-09-03T20:53:48.290645Z"
    }
   },
   "outputs": [],
   "source": [
    "import os\n",
    "from datetime import datetime\n",
    "from json import dumps, loads\n",
    "from time import sleep\n",
    "from random import randint\n",
    "from kafka import KafkaConsumer, KafkaProducer\n",
    "\n",
    "# Update this for your own recitation section :)\n",
    "topic = \"recitation-e\"  # x could be b, c, d, e, f"
   ]
  },
  {
   "cell_type": "markdown",
   "id": "0eb9dd6f",
   "metadata": {},
   "source": [
    "### Producer Mode -> Writes Data to Broker"
   ]
  },
  {
   "cell_type": "code",
   "execution_count": 27,
   "id": "aa4679a1",
   "metadata": {},
   "outputs": [
    {
     "name": "stdout",
     "output_type": "stream",
     "text": [
      "Writing to Kafka Broker\n",
      "Writing: 2025-01-24 11:54:57,Los Angeles,20ºC\n",
      "Writing: 2025-01-24 11:54:58,Chicago,32ºC\n",
      "Writing: 2025-01-24 11:54:59,San Francisco,29ºC\n",
      "Writing: 2025-01-24 11:55:00,Los Angeles,30ºC\n",
      "Writing: 2025-01-24 11:55:01,Chicago,30ºC\n",
      "Writing: 2025-01-24 11:55:02,Pittsburgh,18ºC\n",
      "Writing: 2025-01-24 11:55:03,Los Angeles,32ºC\n",
      "Writing: 2025-01-24 11:55:04,San Francisco,24ºC\n",
      "Writing: 2025-01-24 11:55:05,Chicago,24ºC\n",
      "Writing: 2025-01-24 11:55:06,Chicago,29ºC\n"
     ]
    }
   ],
   "source": [
    "# Create a producer to write data to kafka\n",
    "# Ref: https://kafka-python.readthedocs.io/en/master/apidoc/KafkaProducer.html\n",
    "\n",
    "# [DONE]: Replace '...' with the address of your Kafka bootstrap server\n",
    "producer = KafkaProducer(\n",
    "    bootstrap_servers=[\"localhost:9092\"],\n",
    "    value_serializer=lambda x: dumps(x).encode(\"utf-8\"),\n",
    ")\n",
    "\n",
    "# [DONE]: Add cities of your choice\n",
    "cities = [\"Pittsburgh\", \"New York\", \"Los Angeles\", \"San Francisco\", \"Chicago\"]\n",
    "\n",
    "# Write data via the producer\n",
    "print(\"Writing to Kafka Broker\")\n",
    "for i in range(10):\n",
    "    data = f'{datetime.now().strftime(\"%Y-%m-%d %H:%M:%S\")},{cities[randint(0,len(cities)-1)]},{randint(18, 32)}ºC'\n",
    "    print(f\"Writing: {data}\")\n",
    "    producer.send(topic=topic, value=data)\n",
    "    sleep(1)"
   ]
  },
  {
   "cell_type": "markdown",
   "id": "a45bbace",
   "metadata": {},
   "source": [
    "### Consumer Mode -> Reads Data from Broker"
   ]
  },
  {
   "cell_type": "code",
   "execution_count": 30,
   "id": "a5e2f59f",
   "metadata": {},
   "outputs": [
    {
     "name": "stdout",
     "output_type": "stream",
     "text": [
      "Reading Kafka Broker\n",
      "2025-01-23 12:06:33,Boston,25ºC\n",
      "2025-01-23 12:06:35,New York,18ºC\n",
      "2025-01-23 12:06:36,Pittsburgh,28ºC\n",
      "2025-01-23 12:06:37,New York,25ºC\n",
      "2025-01-23 12:06:38,Pittsburgh,18ºC\n",
      "2025-01-23 12:06:39,Pittsburgh,27ºC\n",
      "2025-01-23 12:06:40,Pittsburgh,24ºC\n",
      "2025-01-23 12:06:41,Boston,28ºC\n",
      "2025-01-23 12:06:42,New York,18ºC\n",
      "2025-01-23 12:06:43,Pittsburgh,31ºC\n"
     ]
    }
   ],
   "source": [
    "# Create a consumer to read data from kafka\n",
    "# Ref: https://kafka-python.readthedocs.io/en/master/apidoc/KafkaConsumer.html\n",
    "\n",
    "# [TODO]: Complete the missing ... parameters/arguments using the Kafka documentation\n",
    "consumer = KafkaConsumer(\n",
    "    topic,\n",
    "    bootstrap_servers=[\"localhost:9092\"],\n",
    "    auto_offset_reset=\"earliest\",  # Experiment with different values\n",
    "    # Commit that an offset has been read\n",
    "    enable_auto_commit=True,\n",
    "    # How often to tell Kafka, an offset has been read\n",
    "    auto_commit_interval_ms=5,\n",
    ")\n",
    "\n",
    "print(\"Reading Kafka Broker\")\n",
    "message_count = 0\n",
    "for message in consumer:\n",
    "    message = message.value.decode()\n",
    "    # Default message.value type is bytes!\n",
    "    print(loads(message))\n",
    "    os.system(f\"echo {message} >> kafka_log.csv\")\n",
    "    message_count += 1\n",
    "    if message_count >= 10:\n",
    "        break\n",
    "\n",
    "consumer.close()"
   ]
  },
  {
   "cell_type": "markdown",
   "id": "38927152",
   "metadata": {},
   "source": [
    "# Use kcat!\n",
    "It's a CLI (Command Line Interface). Previously known as kafkacat\n",
    "\n",
    "\n",
    "Ref: https://docs.confluent.io/platform/current/app-development/kafkacat-usage.html"
   ]
  },
  {
   "cell_type": "code",
   "execution_count": 29,
   "id": "e19b63da",
   "metadata": {},
   "outputs": [],
   "source": [
    "# kcat command: connect to local Kafka broker, specify a topic, and consume messages from the earliest offset"
   ]
  }
 ],
 "metadata": {
  "kernelspec": {
   "display_name": "MLIP",
   "language": "python",
   "name": "python3"
  },
  "language_info": {
   "codemirror_mode": {
    "name": "ipython",
    "version": 3
   },
   "file_extension": ".py",
   "mimetype": "text/x-python",
   "name": "python",
   "nbconvert_exporter": "python",
   "pygments_lexer": "ipython3",
   "version": "3.10.15"
  }
 },
 "nbformat": 4,
 "nbformat_minor": 5
}
